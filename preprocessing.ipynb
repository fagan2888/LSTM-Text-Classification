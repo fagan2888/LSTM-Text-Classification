{
 "cells": [
  {
   "cell_type": "code",
   "execution_count": 22,
   "metadata": {
    "collapsed": true
   },
   "outputs": [],
   "source": [
    "\"\"\"\n",
    "数据预处理任务列表：\n",
    "[1] 分词\n",
    "[2] 词 -> id。例如：\"好\":[1,2,3,4,1,2,3,4]\n",
    "    matrix = [|V|, embedding_size]\n",
    "    词的id。例如：\"好\":1748。\n",
    "    词汇表。整个训练集文本，有哪些词语。\n",
    "[3] label -> id。例如：“体育“：2\n",
    "\"\"\"\n",
    "\n",
    "import os\n",
    "import jieba\n",
    "import sys\n",
    "\n",
    "# input files\n",
    "train_file = \"/Users/michaelwang/Desktop/Text_Classification/cnews.train.txt\"\n",
    "val_file = \"/Users/michaelwang/Desktop/Text_Classification/cnews.val.txt\"\n",
    "test_file = \"/Users/michaelwang/Desktop/Text_Classification/cnews.test.txt\"\n",
    "\n",
    "# output files\n",
    "seg_train_file = \"/Users/michaelwang/Desktop/Text_Classification/cnews.train.seg.txt\"\n",
    "seg_val_file = \"/Users/michaelwang/Desktop/Text_Classification/cnews.val.seg.txt\"\n",
    "seg_test_file = \"/Users/michaelwang/Desktop/Text_Classification/cnews.test.seg.txt\"\n",
    "\n",
    "vocab_file = \"/Users/michaelwang/Desktop/Text_Classification/cnews.vocab.txt\"\n",
    "category_file = \"/Users/michaelwang/Desktop/Text_Classification/cnews.category.txt\""
   ]
  },
  {
   "cell_type": "code",
   "execution_count": 25,
   "metadata": {},
   "outputs": [],
   "source": [
    "def generate_seg_file(input_file, seg_file):\n",
    "    \"\"\"\n",
    "    分词\n",
    "    Segment content with space. Generate a new file.\n",
    "    \"\"\"\n",
    "    with open(input_file, 'r') as f:\n",
    "        lines = f.readlines()\n",
    "    with open(seg_file, 'w') as f2:\n",
    "        for line in lines:\n",
    "            label, content = line.strip('\\r\\n').split('\\t')\n",
    "            word_iter = jieba.cut(content)\n",
    "            word_content = ''\n",
    "            for word in word_iter:\n",
    "                word = word.strip(' ')\n",
    "                if word!='':\n",
    "                    word_content += word + ' '\n",
    "            out_line = \"%s\\t%s\\n\" % (label, word_content)\n",
    "            f2.write(out_line)\n",
    "            \n",
    "# generate_seg_file(val_file, seg_val_file)\n",
    "# generate_seg_file(test_file, seg_test_file)\n",
    "# generate_seg_file(train_file, seg_train_file)"
   ]
  },
  {
   "cell_type": "code",
   "execution_count": 28,
   "metadata": {},
   "outputs": [],
   "source": [
    "def generate_vocab_file(seg_file, vocab_file):\n",
    "    \"\"\"\n",
    "    词表\n",
    "    Get all words in training segmented file. Make a vocabulary.\n",
    "    \"\"\"\n",
    "    word_dict = {}\n",
    "    with open(seg_file, 'r') as f:\n",
    "        lines = f.readlines()\n",
    "        for line in lines:\n",
    "            label, content = line.strip('\\r\\n').split('\\t')\n",
    "            for word in content.split():\n",
    "                word_dict.setdefault(word, 0)\n",
    "                word_dict[word] += 1\n",
    "        sorted_word_dict = sorted(word_dict.items(), key=lambda d:d[1], reverse=True)\n",
    "    with open(vocab_file, 'w') as f2:\n",
    "        f2.write(\"<UNK>, 1000000\")\n",
    "        for item in sorted_word_dict:\n",
    "            f2.write(\"%s\\t%d\\n\" % (item[0], item[1]))\n",
    "            \n",
    "generate_vocab_file(seg_train_file, vocab_file)"
   ]
  },
  {
   "cell_type": "code",
   "execution_count": 29,
   "metadata": {
    "collapsed": true
   },
   "outputs": [],
   "source": [
    "def generate_category_file(seg_file, category_file):\n",
    "    \"\"\"\n",
    "    类别表\n",
    "    \"\"\"\n",
    "    category_dict = {}\n",
    "    with open(seg_file, 'r') as f:\n",
    "        lines = f.readlines()\n",
    "        for line in lines:\n",
    "            label, content = line.strip(\"\\r\\n\").split('\\t')\n",
    "            category_dict.setdefault(label, 0)\n",
    "            category_dict[label] += 1\n",
    "    with open(category_file, 'w') as f2:\n",
    "        for category in category_dict:\n",
    "            line = \"%s\\n\" % category\n",
    "            f2.write(line)\n",
    "            \n",
    "generate_category_file(seg_train_file, category_file)"
   ]
  }
 ],
 "metadata": {
  "kernelspec": {
   "display_name": "Python 3",
   "language": "python",
   "name": "python3"
  },
  "language_info": {
   "codemirror_mode": {
    "name": "ipython",
    "version": 3
   },
   "file_extension": ".py",
   "mimetype": "text/x-python",
   "name": "python",
   "nbconvert_exporter": "python",
   "pygments_lexer": "ipython3",
   "version": "3.6.1"
  }
 },
 "nbformat": 4,
 "nbformat_minor": 2
}
